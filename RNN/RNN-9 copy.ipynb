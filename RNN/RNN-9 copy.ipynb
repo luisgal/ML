{
 "cells": [
  {
   "cell_type": "markdown",
   "metadata": {},
   "source": [
    "# RNN - Convolución simple\n",
    "\n",
    "* 2 capas de convolución + ReLU + MaxPooling\n",
    "* 2 capas totalmente conectadas"
   ]
  },
  {
   "cell_type": "markdown",
   "metadata": {},
   "source": [
    "## Carga de libreiras e inicio de session"
   ]
  },
  {
   "cell_type": "code",
   "execution_count": 292,
   "metadata": {},
   "outputs": [],
   "source": [
    "import matplotlib.pyplot as plt\n",
    "import numpy as np\n",
    "import tensorflow as tf\n",
    "from tensorflow.compat.v1.keras import datasets\n",
    "from tensorflow.python.framework import ops\n",
    "\n",
    "ops.reset_default_graph()\n",
    "session = tf.compat.v1.Session()"
   ]
  },
  {
   "cell_type": "markdown",
   "metadata": {},
   "source": [
    "## Carga de dataset - MNIST"
   ]
  },
  {
   "cell_type": "code",
   "execution_count": 293,
   "metadata": {},
   "outputs": [],
   "source": [
    "(x_train, y_train), (x_test, y_test) = datasets.mnist.load_data()\n",
    "\n",
    "def normalize(m):\n",
    "    max = 255\n",
    "    min = 0\n",
    "    return (m)/(max-min)\n",
    "\n",
    "x_train = normalize(x_train)\n",
    "x_test = normalize(x_test)"
   ]
  },
  {
   "cell_type": "markdown",
   "metadata": {},
   "source": [
    "## Variables para la RNN"
   ]
  },
  {
   "cell_type": "code",
   "execution_count": 294,
   "metadata": {},
   "outputs": [],
   "source": [
    "# Alto, ancho y numero de canales de las imaganes\n",
    "image_height = x_train[0].shape[0]\n",
    "image_width = x_train[0].shape[0]\n",
    "num_channels = 1\n",
    "\n",
    "# Nodos por convolucion\n",
    "convl0_features = 4\n",
    "convl1_features = 8\n",
    "convl2_features = 16\n",
    "\n",
    "# Tmaño de max_pool\n",
    "max_pool_size1 = 2\n",
    "max_pool_size2 = 2\n",
    "\n",
    "# Nodos totalmente conectados\n",
    "full_conected_size = 128\n",
    "\n",
    "# Numero de categorias\n",
    "target_size = max(y_test)+1\n",
    "\n",
    "# Numero de muestras por entrenamiento\n",
    "batch_size = 100\n",
    "\n",
    "# Radio de aprendizaje y momentum\n",
    "learning_rate = 0.05\n",
    "momentum = 0.8\n",
    "\n",
    "# Generaciones de aprendizaje\n",
    "generations = 1000\n",
    "\n",
    "# Numero de generaciones por evaluacion\n",
    "eval_every = 20\n",
    "# Numero de muestras por evaluacion\n",
    "evaluation_size = 250"
   ]
  },
  {
   "cell_type": "markdown",
   "metadata": {},
   "source": [
    "## TF.Placeholders - Datos que suministraremos a la red"
   ]
  },
  {
   "cell_type": "code",
   "execution_count": 295,
   "metadata": {},
   "outputs": [],
   "source": [
    "x_input_shape = (batch_size, image_height, image_width, num_channels)\n",
    "x_input = tf.compat.v1.placeholder(tf.float32, shape = x_input_shape)\n",
    "y_target = tf.compat.v1.placeholder(tf.int32, shape = (batch_size))\n",
    "\n",
    "eval_input_shape = (evaluation_size, image_height, image_width, num_channels)\n",
    "eval_input = tf.compat.v1.placeholder(tf.float32, shape = eval_input_shape)\n",
    "eval_target = tf.compat.v1.placeholder(tf.int32, shape = (evaluation_size))"
   ]
  },
  {
   "cell_type": "markdown",
   "metadata": {},
   "source": [
    "## TF.Variables\n",
    "### Variables para la convolución"
   ]
  },
  {
   "cell_type": "code",
   "execution_count": 296,
   "metadata": {},
   "outputs": [],
   "source": [
    "convl0_w = tf.compat.v1.Variable(tf.random.truncated_normal(shape=[3,3,num_channels,convl0_features], stddev=0.1, dtype=tf.float32))\n",
    "convl0_b = tf.compat.v1.Variable(tf.zeros(shape=[convl0_features], dtype=tf.float32))\n",
    "\n",
    "convl1_w = tf.compat.v1.Variable(tf.random.truncated_normal(shape=[3,3,convl0_features,convl1_features], stddev=0.1, dtype=tf.float32))\n",
    "convl1_b = tf.compat.v1.Variable(tf.zeros(shape=[convl1_features], dtype=tf.float32))\n",
    "\n",
    "convl1_2_w = tf.compat.v1.Variable(tf.random.truncated_normal(shape=[3,3,convl1_features,convl1_features], stddev=0.1, dtype=tf.float32))\n",
    "convl1_2_b = tf.compat.v1.Variable(tf.zeros(shape=[convl1_features], dtype=tf.float32))\n",
    "\n",
    "convl2_w = tf.compat.v1.Variable(tf.random.truncated_normal(shape=[3,3,convl1_features,convl2_features], stddev=0.1, dtype=tf.float32))\n",
    "convl2_b = tf.compat.v1.Variable(tf.zeros(shape=[convl2_features], dtype=tf.float32))\n",
    "\n",
    "convl2_2_w = tf.compat.v1.Variable(tf.random.truncated_normal(shape=[3,3,convl2_features,convl2_features], stddev=0.1, dtype=tf.float32))\n",
    "convl2_2_b = tf.compat.v1.Variable(tf.zeros(shape=[convl2_features], dtype=tf.float32))\n",
    "\n",
    "convl2_3_w = tf.compat.v1.Variable(tf.random.truncated_normal(shape=[3,3,convl2_features,convl2_features], stddev=0.1, dtype=tf.float32))\n",
    "convl2_3_b = tf.compat.v1.Variable(tf.zeros(shape=[convl2_features], dtype=tf.float32))"
   ]
  },
  {
   "cell_type": "markdown",
   "metadata": {},
   "source": [
    "### Variables de la capa totalmente conectada"
   ]
  },
  {
   "cell_type": "code",
   "execution_count": 297,
   "metadata": {},
   "outputs": [],
   "source": [
    "resulting_width = image_width // (max_pool_size1 * max_pool_size2)\n",
    "resulting_height = image_height // (max_pool_size1 * max_pool_size2)\n",
    "\n",
    "full_input_size = (resulting_width*resulting_height*convl2_features)\n",
    "full1_w = tf.compat.v1.Variable(tf.random.truncated_normal(shape=[full_input_size, full_conected_size], stddev=0.1, dtype=tf.float32))\n",
    "full1_b = tf.compat.v1.Variable(tf.random.truncated_normal(shape=[full_conected_size], stddev=0.1, dtype=tf.float32))\n",
    "\n",
    "full2_w = tf.compat.v1.Variable(tf.random.truncated_normal(shape=[full_conected_size, target_size], stddev=0.1, dtype=tf.float32))\n",
    "full2_b = tf.compat.v1.Variable(tf.random.truncated_normal(shape=[target_size], stddev=0.1, dtype=tf.float32))\n"
   ]
  },
  {
   "cell_type": "markdown",
   "metadata": {},
   "source": [
    "## Creación de la función del Modelo"
   ]
  },
  {
   "cell_type": "code",
   "execution_count": 298,
   "metadata": {},
   "outputs": [],
   "source": [
    "def conv_NN(input_data):\n",
    "    # Primera capa - Primer convolucion + ReLU + MaxPooling\n",
    "    conv0 = tf.nn.conv2d(input_data,convl0_w, strides=[1,1,1,1], padding=\"SAME\")\n",
    "    relu0 = tf.nn.relu(tf.nn.bias_add(conv0, convl0_b))\n",
    "    \n",
    "    # Primera capa - Primer convolucion + ReLU + MaxPooling\n",
    "    conv1 = tf.nn.conv2d(relu0,convl1_w, strides=[1,1,1,1], padding=\"SAME\")\n",
    "    relu1 = tf.nn.relu(tf.nn.bias_add(conv1, convl1_b))\n",
    "    #max_pool1 = tf.nn.max_pool(relu1, ksize=[1,max_pool_size1,max_pool_size2,1], strides=[1,max_pool_size1,max_pool_size2,1], padding=\"SAME\")\n",
    "    \n",
    "    conv1_2 = tf.nn.conv2d(relu1,convl1_2_w, strides=[1,1,1,1], padding=\"SAME\")\n",
    "    relu1_2 = tf.nn.relu(tf.nn.bias_add(conv1_2, convl1_2_b))\n",
    "    max_pool1 = tf.nn.max_pool(relu1_2, ksize=[1,max_pool_size1,max_pool_size2,1], strides=[1,max_pool_size1,max_pool_size2,1], padding=\"SAME\")\n",
    "    \n",
    "    # Segunda capa - Segunda convolucion + ReLU + MaxPooling\n",
    "    conv2 = tf.nn.conv2d(max_pool1,convl2_w, strides=[1,1,1,1], padding=\"SAME\")\n",
    "    relu2 = tf.nn.relu(tf.nn.bias_add(conv2, convl2_b))\n",
    "    \n",
    "    conv2_2 = tf.nn.conv2d(relu2,convl2_2_w, strides=[1,1,1,1], padding=\"SAME\")\n",
    "    relu2_2 = tf.nn.relu(tf.nn.bias_add(conv2_2, convl2_2_b))\n",
    "    \n",
    "    conv2_3 = tf.nn.conv2d(relu2_2,convl2_3_w, strides=[1,1,1,1], padding=\"SAME\")\n",
    "    relu2_3 = tf.nn.relu(tf.nn.bias_add(conv2_3, convl2_3_b))\n",
    "    \n",
    "    max_pool2 = tf.nn.max_pool(relu2_3, ksize=[1,max_pool_size1,max_pool_size2,1], strides=[1,max_pool_size1,max_pool_size2,1], padding=\"SAME\")\n",
    "    \n",
    "    \n",
    "    # Operación flattening para aplanar la imagen en un vector\n",
    "    final_conv2_shape = max_pool2.get_shape().as_list()\n",
    "    final_shape = final_conv2_shape[1]*final_conv2_shape[2]*final_conv2_shape[3]\n",
    "    flat_output = tf.reshape(max_pool2, shape=[final_conv2_shape[0],final_shape])\n",
    "    \n",
    "    # Tercer capa - Primer capa Fully Conected\n",
    "    fully_conected1 = tf.nn.relu(tf.add(tf.matmul(flat_output,full1_w),full1_b))\n",
    "    \n",
    "    # Cuarta capa - Segunda capa Fully Conected\n",
    "    fully_conected2 = tf.nn.relu(tf.add(tf.matmul(fully_conected1,full2_w),full2_b))\n",
    "    \n",
    "    # Return - Resultado de la red neuronal\n",
    "    return fully_conected2"
   ]
  },
  {
   "cell_type": "markdown",
   "metadata": {},
   "source": [
    "## Creación de los objetos del modelo"
   ]
  },
  {
   "cell_type": "code",
   "execution_count": 299,
   "metadata": {},
   "outputs": [],
   "source": [
    "model_output = conv_NN(x_input)\n",
    "test_model_output = conv_NN(eval_input)"
   ]
  },
  {
   "cell_type": "markdown",
   "metadata": {},
   "source": [
    "## Función de perdida"
   ]
  },
  {
   "cell_type": "code",
   "execution_count": 300,
   "metadata": {},
   "outputs": [],
   "source": [
    "loss = tf.reduce_mean(tf.nn.sparse_softmax_cross_entropy_with_logits(logits=model_output, labels=y_target))"
   ]
  },
  {
   "cell_type": "markdown",
   "metadata": {},
   "source": [
    "## Creación de la función de predicción de entrenamiento y de test"
   ]
  },
  {
   "cell_type": "code",
   "execution_count": 301,
   "metadata": {},
   "outputs": [],
   "source": [
    "prediction = tf.nn.softmax(model_output)\n",
    "test_prediction = tf.nn.softmax(test_model_output)"
   ]
  },
  {
   "cell_type": "markdown",
   "metadata": {},
   "source": [
    "## Calculo de la precisión"
   ]
  },
  {
   "cell_type": "code",
   "execution_count": 302,
   "metadata": {},
   "outputs": [],
   "source": [
    "def get_accuracy(logits,targets):\n",
    "    batch_predictions = np.argmax(logits, axis = 1)\n",
    "    num_corrects = np.sum(np.equal(batch_predictions,targets))\n",
    "    return 100.0*num_corrects/batch_predictions.shape[0]"
   ]
  },
  {
   "cell_type": "markdown",
   "metadata": {},
   "source": [
    "## Función de optimización"
   ]
  },
  {
   "cell_type": "code",
   "execution_count": 303,
   "metadata": {},
   "outputs": [],
   "source": [
    "my_optim = tf.compat.v1.train.GradientDescentOptimizer(learning_rate=learning_rate)\n",
    "train_step = my_optim.minimize(loss)"
   ]
  },
  {
   "cell_type": "markdown",
   "metadata": {},
   "source": [
    "## Inicialización de TF.Variables"
   ]
  },
  {
   "cell_type": "code",
   "execution_count": 304,
   "metadata": {},
   "outputs": [],
   "source": [
    "init = tf.compat.v1.global_variables_initializer()\n",
    "session.run(init)"
   ]
  },
  {
   "cell_type": "markdown",
   "metadata": {},
   "source": [
    "## Entrenamiento del modelo"
   ]
  },
  {
   "cell_type": "code",
   "execution_count": 305,
   "metadata": {},
   "outputs": [
    {
     "name": "stdout",
     "output_type": "stream",
     "text": [
      "Iteración 20. Train Loss: 2.292. Train Acc: 17.000. Test Acc: 13.600\n",
      "Iteración 40. Train Loss: 2.303. Train Acc: 10.000. Test Acc: 10.400\n",
      "Iteración 60. Train Loss: 2.312. Train Acc: 7.000. Test Acc: 10.800\n",
      "Iteración 80. Train Loss: 2.310. Train Acc: 8.000. Test Acc: 8.800\n",
      "Iteración 100. Train Loss: 2.286. Train Acc: 16.000. Test Acc: 14.000\n",
      "Iteración 120. Train Loss: 2.297. Train Acc: 12.000. Test Acc: 10.400\n",
      "Iteración 140. Train Loss: 2.302. Train Acc: 9.000. Test Acc: 7.600\n",
      "Iteración 160. Train Loss: 2.304. Train Acc: 5.000. Test Acc: 10.400\n",
      "Iteración 180. Train Loss: 2.289. Train Acc: 19.000. Test Acc: 12.000\n",
      "Iteración 200. Train Loss: 2.283. Train Acc: 16.000. Test Acc: 11.600\n",
      "Iteración 220. Train Loss: 2.291. Train Acc: 14.000. Test Acc: 18.000\n",
      "Iteración 240. Train Loss: 2.272. Train Acc: 27.000. Test Acc: 17.600\n",
      "Iteración 260. Train Loss: 2.268. Train Acc: 32.000. Test Acc: 31.600\n",
      "Iteración 280. Train Loss: 2.214. Train Acc: 46.000. Test Acc: 46.400\n",
      "Iteración 300. Train Loss: 1.953. Train Acc: 50.000. Test Acc: 47.200\n",
      "Iteración 320. Train Loss: 1.807. Train Acc: 46.000. Test Acc: 52.000\n",
      "Iteración 340. Train Loss: 1.098. Train Acc: 68.000. Test Acc: 61.200\n",
      "Iteración 360. Train Loss: 0.339. Train Acc: 93.000. Test Acc: 81.200\n",
      "Iteración 380. Train Loss: 0.301. Train Acc: 91.000. Test Acc: 90.800\n",
      "Iteración 400. Train Loss: 0.254. Train Acc: 90.000. Test Acc: 89.200\n",
      "Iteración 420. Train Loss: 0.187. Train Acc: 92.000. Test Acc: 92.800\n",
      "Iteración 440. Train Loss: 0.110. Train Acc: 97.000. Test Acc: 90.800\n",
      "Iteración 460. Train Loss: 0.137. Train Acc: 95.000. Test Acc: 93.600\n",
      "Iteración 480. Train Loss: 0.165. Train Acc: 94.000. Test Acc: 85.200\n",
      "Iteración 500. Train Loss: 0.113. Train Acc: 98.000. Test Acc: 95.200\n",
      "Iteración 520. Train Loss: 0.081. Train Acc: 98.000. Test Acc: 93.200\n",
      "Iteración 540. Train Loss: 0.072. Train Acc: 99.000. Test Acc: 96.400\n",
      "Iteración 560. Train Loss: 0.067. Train Acc: 98.000. Test Acc: 96.800\n",
      "Iteración 580. Train Loss: 0.156. Train Acc: 97.000. Test Acc: 93.600\n",
      "Iteración 600. Train Loss: 0.029. Train Acc: 100.000. Test Acc: 94.800\n",
      "Iteración 620. Train Loss: 0.043. Train Acc: 100.000. Test Acc: 95.600\n",
      "Iteración 640. Train Loss: 0.167. Train Acc: 96.000. Test Acc: 96.400\n",
      "Iteración 660. Train Loss: 0.087. Train Acc: 98.000. Test Acc: 96.000\n",
      "Iteración 680. Train Loss: 0.056. Train Acc: 97.000. Test Acc: 94.800\n",
      "Iteración 700. Train Loss: 0.054. Train Acc: 97.000. Test Acc: 93.200\n",
      "Iteración 720. Train Loss: 0.030. Train Acc: 99.000. Test Acc: 96.400\n",
      "Iteración 740. Train Loss: 0.117. Train Acc: 98.000. Test Acc: 98.000\n",
      "Iteración 760. Train Loss: 0.019. Train Acc: 100.000. Test Acc: 96.800\n",
      "Iteración 780. Train Loss: 0.044. Train Acc: 99.000. Test Acc: 96.800\n",
      "Iteración 800. Train Loss: 0.115. Train Acc: 96.000. Test Acc: 95.600\n",
      "Iteración 820. Train Loss: 0.033. Train Acc: 99.000. Test Acc: 94.800\n",
      "Iteración 840. Train Loss: 0.025. Train Acc: 100.000. Test Acc: 97.600\n",
      "Iteración 860. Train Loss: 0.023. Train Acc: 100.000. Test Acc: 92.400\n",
      "Iteración 880. Train Loss: 0.024. Train Acc: 100.000. Test Acc: 96.000\n",
      "Iteración 900. Train Loss: 0.182. Train Acc: 98.000. Test Acc: 96.000\n",
      "Iteración 920. Train Loss: 0.038. Train Acc: 100.000. Test Acc: 96.400\n",
      "Iteración 940. Train Loss: 0.024. Train Acc: 100.000. Test Acc: 97.600\n",
      "Iteración 960. Train Loss: 0.016. Train Acc: 100.000. Test Acc: 97.600\n",
      "Iteración 980. Train Loss: 0.016. Train Acc: 100.000. Test Acc: 97.600\n",
      "Iteración 1000. Train Loss: 0.024. Train Acc: 100.000. Test Acc: 98.000\n"
     ]
    }
   ],
   "source": [
    "train_loss = []\n",
    "train_acc = []\n",
    "test_acc = []\n",
    "i_vals = []\n",
    "\n",
    "for i in range(generations):\n",
    "    # Id's de n imagenes, n -> batch_size\n",
    "    rand_idx = np.random.choice(len(x_train), size=batch_size)\n",
    "    # Se toman las imagenes a entrenar\n",
    "    rand_x = x_train[rand_idx]\n",
    "    # El formato en el que vienen los datos les falta la dimesión de los canales de colores\n",
    "    # Se expande la dimensión para los canales de colores\n",
    "    # Recordemos que este dataset son imagenes de un solo canal, en grises\n",
    "    rand_x = np.expand_dims(rand_x, 3)\n",
    "    # Tomar los valores objetivos de cada imagen tomada para entrenar\n",
    "    rand_y = y_train[rand_idx]\n",
    "    \n",
    "    # Diccionario de datos a entrenar\n",
    "    train_dic = {x_input:rand_x,y_target:rand_y}\n",
    "    \n",
    "    # Ejecutar un paso del entrenamiento\n",
    "    session.run(train_step,feed_dict=train_dic)\n",
    "    \n",
    "    \"\"\"Dado que se guardaran en el arreglo cada 20 pasos, mejor se consulta antes de guardarlo y no cada paso\"\"\"\n",
    "    # Valor de perdida y de presision\n",
    "    #temp_train_loss, temp_train_preds = session.run([loss,prediction],feed_dict=train_dic)\n",
    "    #temp_train_acc = get_accuracy(temp_train_preds,rand_y)\n",
    "    \n",
    "    # Evaluación del modelo contra test\n",
    "    if (i+1) % eval_every == 0:\n",
    "        # Id's de n imagenes test, n -> evaluation_size\n",
    "        rand_idx_test = np.random.choice(len(x_test), size=evaluation_size)\n",
    "        # Se toman las imagenes test\n",
    "        rand_x_test = x_test[rand_idx_test]\n",
    "        rand_x_test = np.expand_dims(rand_x_test, 3)\n",
    "        # Tomar los valores objetivos de cada imagen test tomada\n",
    "        rand_y_test = y_test[rand_idx_test]\n",
    "        \n",
    "        # Diccionario de datos test\n",
    "        train_dic_test = {eval_input:rand_x_test,eval_target:rand_y_test}\n",
    "        \n",
    "        \"\"\"Optimización de no cargar 20 veces sin usar las variables\"\"\"\n",
    "        # Valor de perdida y de presision\n",
    "        temp_train_loss, temp_train_preds = session.run([loss,prediction],feed_dict=train_dic)\n",
    "        temp_train_acc = get_accuracy(temp_train_preds,rand_y)\n",
    "        \n",
    "        # Presision del modelo contra test\n",
    "        temp_test_preds = session.run(test_prediction,feed_dict=train_dic_test)\n",
    "        temp_test_acc = get_accuracy(temp_test_preds,rand_y_test)\n",
    "        \n",
    "        i_vals.append(i+1)\n",
    "        test_acc.append(temp_test_acc)\n",
    "        train_acc.append(temp_train_acc)\n",
    "        train_loss.append(temp_train_loss)\n",
    "        \n",
    "        acc_and_loss = [(i+1),temp_train_loss, temp_train_acc, temp_test_acc]\n",
    "        acc_and_loss = [np.round(x,3) for x in acc_and_loss]\n",
    "        print(\"Iteración {}. Train Loss: {:.3f}. Train Acc: {:.3f}. Test Acc: {:.3f}\".format(*acc_and_loss))"
   ]
  },
  {
   "cell_type": "markdown",
   "metadata": {},
   "source": [
    "## Grafica de perdidas y presisión del modelo"
   ]
  },
  {
   "cell_type": "code",
   "execution_count": 306,
   "metadata": {},
   "outputs": [
    {
     "data": {
      "image/png": "[encoded data removed]",
      "text/plain": [
       "<Figure size 432x288 with 1 Axes>"
      ]
     },
     "metadata": {
      "needs_background": "light"
     },
     "output_type": "display_data"
    }
   ],
   "source": [
    "plt.plot(i_vals, train_loss, 'k-')\n",
    "plt.title(\"Softmax Loss para cada Iteración\")\n",
    "plt.xlabel(\"Iteración\")\n",
    "plt.ylabel(\"Pérdida Softmax\")\n",
    "plt.show()"
   ]
  },
  {
   "cell_type": "code",
   "execution_count": 307,
   "metadata": {},
   "outputs": [
    {
     "data": {
      "image/png": "[encoded data removed]",
      "text/plain": [
       "<Figure size 432x288 with 1 Axes>"
      ]
     },
     "metadata": {
      "needs_background": "light"
     },
     "output_type": "display_data"
    }
   ],
   "source": [
    "plt.plot(i_vals, train_acc, 'r-', label=\"Precisión en entrenamiento\")\n",
    "plt.plot(i_vals, test_acc, 'b--', label=\"Precisión en testing\")\n",
    "plt.xlabel(\"Iteración\")\n",
    "plt.ylabel(\"Precisión\")\n",
    "plt.ylim([0,100])\n",
    "plt.title(\"Precisión en la predicción\")\n",
    "plt.legend(loc=\"lower right\")\n",
    "plt.show()"
   ]
  },
  {
   "cell_type": "code",
   "execution_count": 308,
   "metadata": {},
   "outputs": [
    {
     "data": {
      "image/png": "[encoded data removed]",
      "text/plain": [
       "<Figure size 432x288 with 6 Axes>"
      ]
     },
     "metadata": {
      "needs_background": "light"
     },
     "output_type": "display_data"
    }
   ],
   "source": [
    "nrows = 2\n",
    "ncols = 3\n",
    "actuals = rand_y[0:ncols*nrows]\n",
    "predictions = np.argmax(temp_train_preds, axis=1)[0:ncols*nrows]\n",
    "images = np.squeeze(rand_x[0:ncols*nrows])\n",
    "for i in range(ncols*nrows):\n",
    "    plt.subplot(nrows, ncols, i+1)\n",
    "    plt.imshow(np.reshape(images[i], [28,28]), cmap=\"Greys_r\")\n",
    "    plt.title(\"Actual \"+str(actuals[i])+\" Predicción: \"+str(predictions[i]), fontsize = 10)\n",
    "    frame=plt.gca()\n",
    "    frame.axes.get_xaxis().set_visible(False)\n",
    "    frame.axes.get_yaxis().set_visible(False)"
   ]
  }
 ],
 "metadata": {
  "interpreter": {
   "hash": "949777d72b0d2535278d3dc13498b2535136f6dfe0678499012e853ee9abcab1"
  },
  "kernelspec": {
   "display_name": "Python 3.7.12 64-bit",
   "name": "python3"
  },
  "language_info": {
   "codemirror_mode": {
    "name": "ipython",
    "version": 3
   },
   "file_extension": ".py",
   "mimetype": "text/x-python",
   "name": "python",
   "nbconvert_exporter": "python",
   "pygments_lexer": "ipython3",
   "version": "3.7.12"
  },
  "orig_nbformat": 4
 },
 "nbformat": 4,
 "nbformat_minor": 2
}
